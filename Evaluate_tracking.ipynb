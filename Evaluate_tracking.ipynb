{
 "cells": [
  {
   "attachments": {},
   "cell_type": "markdown",
   "metadata": {},
   "source": [
    "# Comparing the detections and ground truth"
   ]
  },
  {
   "attachments": {},
   "cell_type": "markdown",
   "metadata": {},
   "source": [
    "In this notbeook we will display the detections made by the custom detectors (MEGVII/transfusion) and the ground thruth found in nuscenes. We won't display the images, rather a BEV appreoach with different other metrics (IoU or distance on the ground plane)."
   ]
  },
  {
   "cell_type": "code",
   "execution_count": 1,
   "metadata": {},
   "outputs": [],
   "source": [
    "import tools.ByteTrack as ByteTrack\n",
    "import warnings\n",
    "from nuscenes.nuscenes import NuScenes\n",
    "from nuscenes.eval.tracking.data_classes import  TrackingConfig\n",
    "from nuscenes.eval.tracking.evaluate import TrackingEval\n",
    "import json\n",
    "import os\n"
   ]
  },
  {
   "attachments": {},
   "cell_type": "markdown",
   "metadata": {},
   "source": [
    "### Create the Nuscenes object"
   ]
  },
  {
   "cell_type": "code",
   "execution_count": 2,
   "metadata": {},
   "outputs": [
    {
     "name": "stdout",
     "output_type": "stream",
     "text": [
      "======\n",
      "Loading NuScenes tables for version v1.0-trainval...\n",
      "23 category,\n",
      "8 attribute,\n",
      "4 visibility,\n",
      "64386 instance,\n",
      "12 sensor,\n",
      "10200 calibrated_sensor,\n",
      "2631083 ego_pose,\n",
      "68 log,\n",
      "850 scene,\n",
      "34149 sample,\n",
      "2631083 sample_data,\n",
      "1166187 sample_annotation,\n",
      "4 map,\n",
      "Done loading in 35.557 seconds.\n",
      "======\n",
      "Reverse indexing ...\n",
      "Done reverse indexing in 8.9 seconds.\n",
      "======\n"
     ]
    }
   ],
   "source": [
    "# no need to run on v1.0-test because there are no annotations\n",
    "nusc = NuScenes(version='v1.0-trainval', dataroot=ByteTrack.TRAINVAL_PATH, verbose=True)"
   ]
  },
  {
   "attachments": {},
   "cell_type": "markdown",
   "metadata": {},
   "source": [
    "### Setup params for evaluation"
   ]
  },
  {
   "cell_type": "code",
   "execution_count": 3,
   "metadata": {},
   "outputs": [],
   "source": [
    "PATH = \"ByteTrack.json\" # precise it only if you want to evaluate multiple tracking predictions\n",
    "\n",
    "warnings.simplefilter(action='ignore', category=FutureWarning) #due to warnings in pandas that are not relevant\n",
    "result_path = \"ByteTrack.json\" # path to the tracking result file\n",
    "eval_set = \"val\" # can be \"train\" \"val\" \"test\" is useless since we cannot evaluate on test set\n",
    "output_dir = \"your_eval_dir\" # directory to save the evaluation results\n",
    "config_file = \"config/tracking_nips_2019.json\""
   ]
  },
  {
   "attachments": {},
   "cell_type": "markdown",
   "metadata": {},
   "source": [
    "Evaluate all the tracking json files in the deisgnated folder"
   ]
  },
  {
   "cell_type": "code",
   "execution_count": null,
   "metadata": {},
   "outputs": [],
   "source": [
    "for filenames in os.listdir(PATH): # à utiliser une fois qu'on aura plusieurs fichiers pour faire nos plots\n",
    "    print(str(PATH+filenames))\n",
    "    trackEvalutation = TrackingEval(nusc_dataroot=ByteTrack.TRAINVAL_PATH, nusc_version='v1.0-trainval', result_path=str(PATH+filenames), eval_set=eval_set, config=TrackingConfig(**json.load(open(config_file))), output_dir=output_dir+filenames[:-5], verbose=True)\n",
    "    trackEvalutation.main()    "
   ]
  },
  {
   "attachments": {},
   "cell_type": "markdown",
   "metadata": {},
   "source": [
    "Evaluate only one tracking json file"
   ]
  },
  {
   "cell_type": "code",
   "execution_count": 4,
   "metadata": {},
   "outputs": [
    {
     "name": "stdout",
     "output_type": "stream",
     "text": [
      "======\n",
      "Loading NuScenes tables for version v1.0-trainval...\n",
      "23 category,\n",
      "8 attribute,\n",
      "4 visibility,\n",
      "64386 instance,\n",
      "12 sensor,\n",
      "10200 calibrated_sensor,\n",
      "2631083 ego_pose,\n",
      "68 log,\n",
      "850 scene,\n",
      "34149 sample,\n",
      "2631083 sample_data,\n",
      "1166187 sample_annotation,\n",
      "4 map,\n",
      "Done loading in 58.268 seconds.\n",
      "======\n",
      "Reverse indexing ...\n",
      "Done reverse indexing in 15.6 seconds.\n",
      "======\n",
      "Initializing nuScenes tracking evaluation\n",
      "Loaded results from ByteTrack.json. Found detections for 6019 samples.\n",
      "Loading annotations for val split from nuScenes version: v1.0-trainval\n"
     ]
    },
    {
     "name": "stderr",
     "output_type": "stream",
     "text": [
      "100%|██████████| 6019/6019 [00:07<00:00, 845.75it/s] \n"
     ]
    },
    {
     "name": "stdout",
     "output_type": "stream",
     "text": [
      "Loaded ground truth annotations for 6019 samples.\n",
      "Filtering tracks\n",
      "=> Original number of boxes: 143482\n",
      "=> After distance based filtering: 112645\n",
      "=> After LIDAR and RADAR points based filtering: 112645\n",
      "=> After bike rack filtering: 112623\n",
      "Filtering ground truth tracks\n",
      "=> Original number of boxes: 142261\n",
      "=> After distance based filtering: 103564\n",
      "=> After LIDAR and RADAR points based filtering: 93885\n",
      "=> After bike rack filtering: 93875\n",
      "Accumulating metric data...\n",
      "Computing metrics for class bicycle...\n",
      "\n"
     ]
    },
    {
     "name": "stderr",
     "output_type": "stream",
     "text": [
      "                                                 \r"
     ]
    },
    {
     "name": "stdout",
     "output_type": "stream",
     "text": [
      "Computed thresholds\n",
      "\n"
     ]
    },
    {
     "name": "stderr",
     "output_type": "stream",
     "text": [
      "                                                  \r"
     ]
    },
    {
     "name": "stdout",
     "output_type": "stream",
     "text": [
      "\t\tMOTAR\tMOTP\tRecall\tFrames\tGT\tGT-Mtch\tGT-Miss\tGT-IDS\tPred\tPred-TP\tPred-FP\tPred-IDS\n",
      "thr_0.2313\t0.000\t0.176\t0.448\t2500\t1993\t891\t1100\t2\t2741\t891\t1848\t2\n",
      "\n"
     ]
    },
    {
     "name": "stderr",
     "output_type": "stream",
     "text": [
      "                                                  \r"
     ]
    },
    {
     "name": "stdout",
     "output_type": "stream",
     "text": [
      "\t\tMOTAR\tMOTP\tRecall\tFrames\tGT\tGT-Mtch\tGT-Miss\tGT-IDS\tPred\tPred-TP\tPred-FP\tPred-IDS\n",
      "thr_0.2379\t0.000\t0.173\t0.434\t2456\t1993\t863\t1128\t2\t2668\t863\t1803\t2\n",
      "\n"
     ]
    },
    {
     "name": "stderr",
     "output_type": "stream",
     "text": [
      "                                                  \r"
     ]
    },
    {
     "name": "stdout",
     "output_type": "stream",
     "text": [
      "\t\tMOTAR\tMOTP\tRecall\tFrames\tGT\tGT-Mtch\tGT-Miss\tGT-IDS\tPred\tPred-TP\tPred-FP\tPred-IDS\n",
      "thr_0.2595\t0.000\t0.162\t0.401\t2360\t1993\t798\t1193\t2\t2404\t798\t1604\t2\n",
      "\n"
     ]
    },
    {
     "name": "stderr",
     "output_type": "stream",
     "text": [
      "                                                  \r"
     ]
    },
    {
     "name": "stdout",
     "output_type": "stream",
     "text": [
      "\t\tMOTAR\tMOTP\tRecall\tFrames\tGT\tGT-Mtch\tGT-Miss\tGT-IDS\tPred\tPred-TP\tPred-FP\tPred-IDS\n",
      "thr_0.3032\t0.000\t0.155\t0.380\t2238\t1993\t756\t1236\t1\t2035\t756\t1278\t1\n",
      "\n"
     ]
    },
    {
     "name": "stderr",
     "output_type": "stream",
     "text": [
      "                                                  \r"
     ]
    },
    {
     "name": "stdout",
     "output_type": "stream",
     "text": [
      "\t\tMOTAR\tMOTP\tRecall\tFrames\tGT\tGT-Mtch\tGT-Miss\tGT-IDS\tPred\tPred-TP\tPred-FP\tPred-IDS\n",
      "thr_0.3467\t0.000\t0.154\t0.359\t2108\t1993\t715\t1277\t1\t1780\t715\t1064\t1\n",
      "\n"
     ]
    },
    {
     "name": "stderr",
     "output_type": "stream",
     "text": [
      "                                                  \r"
     ]
    },
    {
     "name": "stdout",
     "output_type": "stream",
     "text": [
      "\t\tMOTAR\tMOTP\tRecall\tFrames\tGT\tGT-Mtch\tGT-Miss\tGT-IDS\tPred\tPred-TP\tPred-FP\tPred-IDS\n",
      "thr_0.3531\t0.000\t0.155\t0.335\t2088\t1993\t666\t1326\t1\t1694\t666\t1027\t1\n",
      "\n"
     ]
    },
    {
     "name": "stderr",
     "output_type": "stream",
     "text": [
      "                                                  \r"
     ]
    },
    {
     "name": "stdout",
     "output_type": "stream",
     "text": [
      "\t\tMOTAR\tMOTP\tRecall\tFrames\tGT\tGT-Mtch\tGT-Miss\tGT-IDS\tPred\tPred-TP\tPred-FP\tPred-IDS\n",
      "thr_0.3603\t0.000\t0.151\t0.318\t2088\t1993\t633\t1359\t1\t1658\t633\t1024\t1\n",
      "\n"
     ]
    },
    {
     "name": "stderr",
     "output_type": "stream",
     "text": [
      "                                                  \r"
     ]
    },
    {
     "name": "stdout",
     "output_type": "stream",
     "text": [
      "\t\tMOTAR\tMOTP\tRecall\tFrames\tGT\tGT-Mtch\tGT-Miss\tGT-IDS\tPred\tPred-TP\tPred-FP\tPred-IDS\n",
      "thr_0.3803\t0.000\t0.145\t0.288\t2053\t1993\t572\t1420\t1\t1544\t572\t971\t1\n",
      "\n"
     ]
    },
    {
     "name": "stderr",
     "output_type": "stream",
     "text": [
      "                                                  \r"
     ]
    },
    {
     "name": "stdout",
     "output_type": "stream",
     "text": [
      "\t\tMOTAR\tMOTP\tRecall\tFrames\tGT\tGT-Mtch\tGT-Miss\tGT-IDS\tPred\tPred-TP\tPred-FP\tPred-IDS\n",
      "thr_0.4235\t0.000\t0.141\t0.266\t1871\t1993\t529\t1463\t1\t1232\t529\t702\t1\n",
      "\n"
     ]
    },
    {
     "name": "stderr",
     "output_type": "stream",
     "text": [
      "                                                  \r"
     ]
    },
    {
     "name": "stdout",
     "output_type": "stream",
     "text": [
      "\t\tMOTAR\tMOTP\tRecall\tFrames\tGT\tGT-Mtch\tGT-Miss\tGT-IDS\tPred\tPred-TP\tPred-FP\tPred-IDS\n",
      "thr_0.4314\t0.000\t0.146\t0.240\t1810\t1993\t477\t1515\t1\t1087\t477\t609\t1\n",
      "\n"
     ]
    },
    {
     "name": "stderr",
     "output_type": "stream",
     "text": [
      "                                                  \r"
     ]
    },
    {
     "name": "stdout",
     "output_type": "stream",
     "text": [
      "\t\tMOTAR\tMOTP\tRecall\tFrames\tGT\tGT-Mtch\tGT-Miss\tGT-IDS\tPred\tPred-TP\tPred-FP\tPred-IDS\n",
      "thr_0.4564\t0.000\t0.140\t0.226\t1738\t1993\t449\t1543\t1\t953\t449\t503\t1\n",
      "\n"
     ]
    },
    {
     "name": "stderr",
     "output_type": "stream",
     "text": [
      "                                                  \r"
     ]
    },
    {
     "name": "stdout",
     "output_type": "stream",
     "text": [
      "\t\tMOTAR\tMOTP\tRecall\tFrames\tGT\tGT-Mtch\tGT-Miss\tGT-IDS\tPred\tPred-TP\tPred-FP\tPred-IDS\n",
      "thr_0.4656\t0.000\t0.139\t0.197\t1712\t1993\t392\t1600\t1\t862\t392\t469\t1\n",
      "\n"
     ]
    },
    {
     "name": "stderr",
     "output_type": "stream",
     "text": [
      "                                                  \r"
     ]
    },
    {
     "name": "stdout",
     "output_type": "stream",
     "text": [
      "\t\tMOTAR\tMOTP\tRecall\tFrames\tGT\tGT-Mtch\tGT-Miss\tGT-IDS\tPred\tPred-TP\tPred-FP\tPred-IDS\n",
      "thr_0.5101\t0.303\t0.137\t0.173\t1515\t1993\t343\t1649\t1\t583\t343\t239\t1\n",
      "\n"
     ]
    },
    {
     "name": "stderr",
     "output_type": "stream",
     "text": [
      "                                                  \r"
     ]
    },
    {
     "name": "stdout",
     "output_type": "stream",
     "text": [
      "\t\tMOTAR\tMOTP\tRecall\tFrames\tGT\tGT-Mtch\tGT-Miss\tGT-IDS\tPred\tPred-TP\tPred-FP\tPred-IDS\n",
      "thr_0.5309\t0.379\t0.140\t0.147\t1476\t1993\t293\t1700\t0\t475\t293\t182\t0\n",
      "\n"
     ]
    },
    {
     "name": "stderr",
     "output_type": "stream",
     "text": [
      "                                                  \r"
     ]
    },
    {
     "name": "stdout",
     "output_type": "stream",
     "text": [
      "\t\tMOTAR\tMOTP\tRecall\tFrames\tGT\tGT-Mtch\tGT-Miss\tGT-IDS\tPred\tPred-TP\tPred-FP\tPred-IDS\n",
      "thr_0.5500\t0.413\t0.138\t0.126\t1453\t1993\t252\t1741\t0\t400\t252\t148\t0\n",
      "\n"
     ]
    },
    {
     "name": "stderr",
     "output_type": "stream",
     "text": [
      "                                                  \r"
     ]
    },
    {
     "name": "stdout",
     "output_type": "stream",
     "text": [
      "\t\tMOTAR\tMOTP\tRecall\tFrames\tGT\tGT-Mtch\tGT-Miss\tGT-IDS\tPred\tPred-TP\tPred-FP\tPred-IDS\n",
      "thr_0.5710\t0.452\t0.137\t0.104\t1423\t1993\t208\t1785\t0\t322\t208\t114\t0\n",
      "\n",
      "Computing metrics for class bus...\n",
      "\n"
     ]
    },
    {
     "name": "stderr",
     "output_type": "stream",
     "text": [
      "                                                 \r"
     ]
    },
    {
     "name": "stdout",
     "output_type": "stream",
     "text": [
      "Computed thresholds\n",
      "\n"
     ]
    },
    {
     "name": "stderr",
     "output_type": "stream",
     "text": [
      "                                                  \r"
     ]
    },
    {
     "name": "stdout",
     "output_type": "stream",
     "text": [
      "\t\tMOTAR\tMOTP\tRecall\tFrames\tGT\tGT-Mtch\tGT-Miss\tGT-IDS\tPred\tPred-TP\tPred-FP\tPred-IDS\n",
      "thr_0.3621\t0.252\t0.507\t0.708\t2117\t2112\t1492\t616\t4\t2612\t1492\t1116\t4\n",
      "\n"
     ]
    },
    {
     "name": "stderr",
     "output_type": "stream",
     "text": [
      "                                                  \r"
     ]
    },
    {
     "name": "stdout",
     "output_type": "stream",
     "text": [
      "\t\tMOTAR\tMOTP\tRecall\tFrames\tGT\tGT-Mtch\tGT-Miss\tGT-IDS\tPred\tPred-TP\tPred-FP\tPred-IDS\n",
      "thr_0.4280\t0.453\t0.503\t0.683\t1936\t2112\t1439\t670\t3\t2229\t1439\t787\t3\n",
      "\n"
     ]
    },
    {
     "name": "stderr",
     "output_type": "stream",
     "text": [
      "                                                  \r"
     ]
    },
    {
     "name": "stdout",
     "output_type": "stream",
     "text": [
      "\t\tMOTAR\tMOTP\tRecall\tFrames\tGT\tGT-Mtch\tGT-Miss\tGT-IDS\tPred\tPred-TP\tPred-FP\tPred-IDS\n",
      "thr_0.4701\t0.522\t0.495\t0.661\t1868\t2112\t1393\t717\t2\t2061\t1393\t666\t2\n",
      "\n"
     ]
    },
    {
     "name": "stderr",
     "output_type": "stream",
     "text": [
      "                                                  \r"
     ]
    },
    {
     "name": "stdout",
     "output_type": "stream",
     "text": [
      "\t\tMOTAR\tMOTP\tRecall\tFrames\tGT\tGT-Mtch\tGT-Miss\tGT-IDS\tPred\tPred-TP\tPred-FP\tPred-IDS\n",
      "thr_0.5212\t0.684\t0.486\t0.638\t1757\t2112\t1346\t765\t1\t1773\t1346\t426\t1\n",
      "\n"
     ]
    },
    {
     "name": "stderr",
     "output_type": "stream",
     "text": [
      "                                                  \r"
     ]
    },
    {
     "name": "stdout",
     "output_type": "stream",
     "text": [
      "\t\tMOTAR\tMOTP\tRecall\tFrames\tGT\tGT-Mtch\tGT-Miss\tGT-IDS\tPred\tPred-TP\tPred-FP\tPred-IDS\n",
      "thr_0.5807\t0.729\t0.479\t0.617\t1693\t2112\t1303\t808\t1\t1657\t1303\t353\t1\n",
      "\n"
     ]
    },
    {
     "name": "stderr",
     "output_type": "stream",
     "text": [
      "                                                  \r"
     ]
    },
    {
     "name": "stdout",
     "output_type": "stream",
     "text": [
      "\t\tMOTAR\tMOTP\tRecall\tFrames\tGT\tGT-Mtch\tGT-Miss\tGT-IDS\tPred\tPred-TP\tPred-FP\tPred-IDS\n",
      "thr_0.5999\t0.758\t0.467\t0.598\t1692\t2112\t1261\t850\t1\t1567\t1261\t305\t1\n",
      "\n"
     ]
    },
    {
     "name": "stderr",
     "output_type": "stream",
     "text": [
      "                                                  \r"
     ]
    },
    {
     "name": "stdout",
     "output_type": "stream",
     "text": [
      "\t\tMOTAR\tMOTP\tRecall\tFrames\tGT\tGT-Mtch\tGT-Miss\tGT-IDS\tPred\tPred-TP\tPred-FP\tPred-IDS\n",
      "thr_0.6292\t0.784\t0.467\t0.571\t1666\t2112\t1206\t906\t0\t1466\t1206\t260\t0\n",
      "\n"
     ]
    },
    {
     "name": "stderr",
     "output_type": "stream",
     "text": [
      "                                                  \r"
     ]
    },
    {
     "name": "stdout",
     "output_type": "stream",
     "text": [
      "\t\tMOTAR\tMOTP\tRecall\tFrames\tGT\tGT-Mtch\tGT-Miss\tGT-IDS\tPred\tPred-TP\tPred-FP\tPred-IDS\n",
      "thr_0.6343\t0.790\t0.468\t0.558\t1666\t2112\t1179\t933\t0\t1427\t1179\t248\t0\n",
      "\n"
     ]
    },
    {
     "name": "stderr",
     "output_type": "stream",
     "text": [
      "                                                  \r"
     ]
    },
    {
     "name": "stdout",
     "output_type": "stream",
     "text": [
      "\t\tMOTAR\tMOTP\tRecall\tFrames\tGT\tGT-Mtch\tGT-Miss\tGT-IDS\tPred\tPred-TP\tPred-FP\tPred-IDS\n",
      "thr_0.6622\t0.794\t0.478\t0.524\t1646\t2112\t1107\t1005\t0\t1335\t1107\t228\t0\n",
      "\n"
     ]
    },
    {
     "name": "stderr",
     "output_type": "stream",
     "text": [
      "                                                  \r"
     ]
    },
    {
     "name": "stdout",
     "output_type": "stream",
     "text": [
      "\t\tMOTAR\tMOTP\tRecall\tFrames\tGT\tGT-Mtch\tGT-Miss\tGT-IDS\tPred\tPred-TP\tPred-FP\tPred-IDS\n",
      "thr_0.6852\t0.801\t0.473\t0.505\t1646\t2112\t1067\t1045\t0\t1279\t1067\t212\t0\n",
      "\n"
     ]
    },
    {
     "name": "stderr",
     "output_type": "stream",
     "text": [
      "                                                  \r"
     ]
    },
    {
     "name": "stdout",
     "output_type": "stream",
     "text": [
      "\t\tMOTAR\tMOTP\tRecall\tFrames\tGT\tGT-Mtch\tGT-Miss\tGT-IDS\tPred\tPred-TP\tPred-FP\tPred-IDS\n",
      "thr_0.6933\t0.824\t0.476\t0.487\t1617\t2112\t1029\t1083\t0\t1210\t1029\t181\t0\n",
      "\n"
     ]
    },
    {
     "name": "stderr",
     "output_type": "stream",
     "text": [
      "                                                  \r"
     ]
    },
    {
     "name": "stdout",
     "output_type": "stream",
     "text": [
      "\t\tMOTAR\tMOTP\tRecall\tFrames\tGT\tGT-Mtch\tGT-Miss\tGT-IDS\tPred\tPred-TP\tPred-FP\tPred-IDS\n",
      "thr_0.7111\t0.867\t0.464\t0.468\t1599\t2112\t989\t1123\t0\t1121\t989\t132\t0\n",
      "\n"
     ]
    },
    {
     "name": "stderr",
     "output_type": "stream",
     "text": [
      "                                                  \r"
     ]
    },
    {
     "name": "stdout",
     "output_type": "stream",
     "text": [
      "\t\tMOTAR\tMOTP\tRecall\tFrames\tGT\tGT-Mtch\tGT-Miss\tGT-IDS\tPred\tPred-TP\tPred-FP\tPred-IDS\n",
      "thr_0.7154\t0.898\t0.462\t0.433\t1583\t2112\t914\t1198\t0\t1007\t914\t93\t0\n",
      "\n"
     ]
    },
    {
     "name": "stderr",
     "output_type": "stream",
     "text": [
      "                                                  \r"
     ]
    },
    {
     "name": "stdout",
     "output_type": "stream",
     "text": [
      "\t\tMOTAR\tMOTP\tRecall\tFrames\tGT\tGT-Mtch\tGT-Miss\tGT-IDS\tPred\tPred-TP\tPred-FP\tPred-IDS\n",
      "thr_0.7890\t0.910\t0.429\t0.407\t1571\t2112\t859\t1253\t0\t936\t859\t77\t0\n",
      "\n"
     ]
    },
    {
     "name": "stderr",
     "output_type": "stream",
     "text": [
      "                                                  \r"
     ]
    },
    {
     "name": "stdout",
     "output_type": "stream",
     "text": [
      "\t\tMOTAR\tMOTP\tRecall\tFrames\tGT\tGT-Mtch\tGT-Miss\tGT-IDS\tPred\tPred-TP\tPred-FP\tPred-IDS\n",
      "thr_0.8300\t0.919\t0.423\t0.384\t1560\t2112\t811\t1301\t0\t877\t811\t66\t0\n",
      "\n"
     ]
    },
    {
     "name": "stderr",
     "output_type": "stream",
     "text": [
      "                                                  \r"
     ]
    },
    {
     "name": "stdout",
     "output_type": "stream",
     "text": [
      "\t\tMOTAR\tMOTP\tRecall\tFrames\tGT\tGT-Mtch\tGT-Miss\tGT-IDS\tPred\tPred-TP\tPred-FP\tPred-IDS\n",
      "thr_0.8463\t0.937\t0.424\t0.363\t1560\t2112\t767\t1345\t0\t815\t767\t48\t0\n",
      "\n"
     ]
    },
    {
     "name": "stderr",
     "output_type": "stream",
     "text": [
      "                                                  \r"
     ]
    },
    {
     "name": "stdout",
     "output_type": "stream",
     "text": [
      "\t\tMOTAR\tMOTP\tRecall\tFrames\tGT\tGT-Mtch\tGT-Miss\tGT-IDS\tPred\tPred-TP\tPred-FP\tPred-IDS\n",
      "thr_0.8492\t0.933\t0.431\t0.332\t1560\t2112\t701\t1411\t0\t748\t701\t47\t0\n",
      "\n"
     ]
    },
    {
     "name": "stderr",
     "output_type": "stream",
     "text": [
      "                                                  \r"
     ]
    },
    {
     "name": "stdout",
     "output_type": "stream",
     "text": [
      "\t\tMOTAR\tMOTP\tRecall\tFrames\tGT\tGT-Mtch\tGT-Miss\tGT-IDS\tPred\tPred-TP\tPred-FP\tPred-IDS\n",
      "thr_0.8603\t0.931\t0.437\t0.321\t1560\t2112\t678\t1434\t0\t725\t678\t47\t0\n",
      "\n"
     ]
    },
    {
     "name": "stderr",
     "output_type": "stream",
     "text": [
      "                                                  \r"
     ]
    },
    {
     "name": "stdout",
     "output_type": "stream",
     "text": [
      "\t\tMOTAR\tMOTP\tRecall\tFrames\tGT\tGT-Mtch\tGT-Miss\tGT-IDS\tPred\tPred-TP\tPred-FP\tPred-IDS\n",
      "thr_0.8720\t0.941\t0.404\t0.287\t1559\t2112\t606\t1506\t0\t642\t606\t36\t0\n",
      "\n"
     ]
    },
    {
     "name": "stderr",
     "output_type": "stream",
     "text": [
      "                                                  \r"
     ]
    },
    {
     "name": "stdout",
     "output_type": "stream",
     "text": [
      "\t\tMOTAR\tMOTP\tRecall\tFrames\tGT\tGT-Mtch\tGT-Miss\tGT-IDS\tPred\tPred-TP\tPred-FP\tPred-IDS\n",
      "thr_0.9054\t0.991\t0.396\t0.276\t1528\t2112\t582\t1530\t0\t587\t582\t5\t0\n",
      "\n"
     ]
    },
    {
     "name": "stderr",
     "output_type": "stream",
     "text": [
      "                                                  \r"
     ]
    },
    {
     "name": "stdout",
     "output_type": "stream",
     "text": [
      "\t\tMOTAR\tMOTP\tRecall\tFrames\tGT\tGT-Mtch\tGT-Miss\tGT-IDS\tPred\tPred-TP\tPred-FP\tPred-IDS\n",
      "thr_0.9132\t0.992\t0.362\t0.245\t1528\t2112\t517\t1595\t0\t521\t517\t4\t0\n",
      "\n"
     ]
    },
    {
     "name": "stderr",
     "output_type": "stream",
     "text": [
      "                                                  \r"
     ]
    },
    {
     "name": "stdout",
     "output_type": "stream",
     "text": [
      "\t\tMOTAR\tMOTP\tRecall\tFrames\tGT\tGT-Mtch\tGT-Miss\tGT-IDS\tPred\tPred-TP\tPred-FP\tPred-IDS\n",
      "thr_0.9154\t0.994\t0.354\t0.229\t1527\t2112\t484\t1628\t0\t487\t484\t3\t0\n",
      "\n"
     ]
    },
    {
     "name": "stderr",
     "output_type": "stream",
     "text": [
      "                                                  \r"
     ]
    },
    {
     "name": "stdout",
     "output_type": "stream",
     "text": [
      "\t\tMOTAR\tMOTP\tRecall\tFrames\tGT\tGT-Mtch\tGT-Miss\tGT-IDS\tPred\tPred-TP\tPred-FP\tPred-IDS\n",
      "thr_0.9277\t0.998\t0.321\t0.193\t1525\t2112\t408\t1704\t0\t409\t408\t1\t0\n",
      "\n"
     ]
    },
    {
     "name": "stderr",
     "output_type": "stream",
     "text": [
      "                                                  \r"
     ]
    },
    {
     "name": "stdout",
     "output_type": "stream",
     "text": [
      "\t\tMOTAR\tMOTP\tRecall\tFrames\tGT\tGT-Mtch\tGT-Miss\tGT-IDS\tPred\tPred-TP\tPred-FP\tPred-IDS\n",
      "thr_0.9346\t0.997\t0.323\t0.179\t1525\t2112\t379\t1733\t0\t380\t379\t1\t0\n",
      "\n"
     ]
    },
    {
     "name": "stderr",
     "output_type": "stream",
     "text": [
      "                                                  \r"
     ]
    },
    {
     "name": "stdout",
     "output_type": "stream",
     "text": [
      "\t\tMOTAR\tMOTP\tRecall\tFrames\tGT\tGT-Mtch\tGT-Miss\tGT-IDS\tPred\tPred-TP\tPred-FP\tPred-IDS\n",
      "thr_0.9387\t1.000\t0.296\t0.153\t1525\t2112\t323\t1789\t0\t323\t323\t0\t0\n",
      "\n"
     ]
    },
    {
     "name": "stderr",
     "output_type": "stream",
     "text": [
      "                                                  \r"
     ]
    },
    {
     "name": "stdout",
     "output_type": "stream",
     "text": [
      "\t\tMOTAR\tMOTP\tRecall\tFrames\tGT\tGT-Mtch\tGT-Miss\tGT-IDS\tPred\tPred-TP\tPred-FP\tPred-IDS\n",
      "thr_0.9451\t1.000\t0.273\t0.126\t1525\t2112\t266\t1846\t0\t266\t266\t0\t0\n",
      "\n"
     ]
    },
    {
     "name": "stderr",
     "output_type": "stream",
     "text": [
      "                                                  \r"
     ]
    },
    {
     "name": "stdout",
     "output_type": "stream",
     "text": [
      "\t\tMOTAR\tMOTP\tRecall\tFrames\tGT\tGT-Mtch\tGT-Miss\tGT-IDS\tPred\tPred-TP\tPred-FP\tPred-IDS\n",
      "thr_0.9458\t1.000\t0.250\t0.107\t1525\t2112\t226\t1886\t0\t226\t226\t0\t0\n",
      "\n",
      "Computing metrics for class car...\n",
      "\n"
     ]
    },
    {
     "name": "stderr",
     "output_type": "stream",
     "text": [
      "                                                 \r"
     ]
    },
    {
     "name": "stdout",
     "output_type": "stream",
     "text": [
      "Computed thresholds\n",
      "\n"
     ]
    },
    {
     "name": "stderr",
     "output_type": "stream",
     "text": [
      "                                                 \r"
     ]
    },
    {
     "name": "stdout",
     "output_type": "stream",
     "text": [
      "\t\tMOTAR\tMOTP\tRecall\tFrames\tGT\tGT-Mtch\tGT-Miss\tGT-IDS\tPred\tPred-TP\tPred-FP\tPred-IDS\n",
      "thr_0.2212\t0.699\t0.271\t0.796\t5818\t58317\t46248\t11892\t177\t60346\t46248\t13921\t177\n",
      "\n"
     ]
    },
    {
     "name": "stderr",
     "output_type": "stream",
     "text": [
      "                                                 \r"
     ]
    },
    {
     "name": "stdout",
     "output_type": "stream",
     "text": [
      "\t\tMOTAR\tMOTP\tRecall\tFrames\tGT\tGT-Mtch\tGT-Miss\tGT-IDS\tPred\tPred-TP\tPred-FP\tPred-IDS\n",
      "thr_0.2901\t0.757\t0.261\t0.773\t5796\t58317\t44971\t13214\t132\t56024\t44971\t10921\t132\n",
      "\n"
     ]
    },
    {
     "name": "stderr",
     "output_type": "stream",
     "text": [
      "                                                 \r"
     ]
    },
    {
     "name": "stdout",
     "output_type": "stream",
     "text": [
      "\t\tMOTAR\tMOTP\tRecall\tFrames\tGT\tGT-Mtch\tGT-Miss\tGT-IDS\tPred\tPred-TP\tPred-FP\tPred-IDS\n",
      "thr_0.3391\t0.791\t0.255\t0.750\t5794\t58317\t43645\t14566\t106\t52872\t43645\t9121\t106\n",
      "\n"
     ]
    },
    {
     "name": "stderr",
     "output_type": "stream",
     "text": [
      "                                                 \r"
     ]
    },
    {
     "name": "stdout",
     "output_type": "stream",
     "text": [
      "\t\tMOTAR\tMOTP\tRecall\tFrames\tGT\tGT-Mtch\tGT-Miss\tGT-IDS\tPred\tPred-TP\tPred-FP\tPred-IDS\n",
      "thr_0.3739\t0.813\t0.247\t0.727\t5792\t58317\t42284\t15939\t94\t50298\t42284\t7920\t94\n",
      "\n"
     ]
    },
    {
     "name": "stderr",
     "output_type": "stream",
     "text": [
      "                                                 \r"
     ]
    },
    {
     "name": "stdout",
     "output_type": "stream",
     "text": [
      "\t\tMOTAR\tMOTP\tRecall\tFrames\tGT\tGT-Mtch\tGT-Miss\tGT-IDS\tPred\tPred-TP\tPred-FP\tPred-IDS\n",
      "thr_0.4042\t0.831\t0.240\t0.703\t5775\t58317\t40947\t17295\t75\t47955\t40947\t6933\t75\n",
      "\n"
     ]
    },
    {
     "name": "stderr",
     "output_type": "stream",
     "text": [
      "                                                 \r"
     ]
    },
    {
     "name": "stdout",
     "output_type": "stream",
     "text": [
      "\t\tMOTAR\tMOTP\tRecall\tFrames\tGT\tGT-Mtch\tGT-Miss\tGT-IDS\tPred\tPred-TP\tPred-FP\tPred-IDS\n",
      "thr_0.4339\t0.850\t0.236\t0.680\t5771\t58317\t39630\t18634\t53\t45618\t39630\t5935\t53\n",
      "\n"
     ]
    },
    {
     "name": "stderr",
     "output_type": "stream",
     "text": [
      "                                                 \r"
     ]
    },
    {
     "name": "stdout",
     "output_type": "stream",
     "text": [
      "\t\tMOTAR\tMOTP\tRecall\tFrames\tGT\tGT-Mtch\tGT-Miss\tGT-IDS\tPred\tPred-TP\tPred-FP\tPred-IDS\n",
      "thr_0.4633\t0.869\t0.231\t0.657\t5771\t58317\t38273\t20000\t44\t43341\t38273\t5024\t44\n",
      "\n"
     ]
    },
    {
     "name": "stderr",
     "output_type": "stream",
     "text": [
      "                                                 \r"
     ]
    },
    {
     "name": "stdout",
     "output_type": "stream",
     "text": [
      "\t\tMOTAR\tMOTP\tRecall\tFrames\tGT\tGT-Mtch\tGT-Miss\tGT-IDS\tPred\tPred-TP\tPred-FP\tPred-IDS\n",
      "thr_0.4946\t0.883\t0.226\t0.634\t5770\t58317\t36919\t21359\t39\t41281\t36919\t4323\t39\n",
      "\n"
     ]
    },
    {
     "name": "stderr",
     "output_type": "stream",
     "text": [
      "                                                 \r"
     ]
    },
    {
     "name": "stdout",
     "output_type": "stream",
     "text": [
      "\t\tMOTAR\tMOTP\tRecall\tFrames\tGT\tGT-Mtch\tGT-Miss\tGT-IDS\tPred\tPred-TP\tPred-FP\tPred-IDS\n",
      "thr_0.5145\t0.892\t0.221\t0.611\t5764\t58317\t35572\t22709\t36\t39456\t35572\t3848\t36\n",
      "\n"
     ]
    },
    {
     "name": "stderr",
     "output_type": "stream",
     "text": [
      "                                                 \r"
     ]
    },
    {
     "name": "stdout",
     "output_type": "stream",
     "text": [
      "\t\tMOTAR\tMOTP\tRecall\tFrames\tGT\tGT-Mtch\tGT-Miss\tGT-IDS\tPred\tPred-TP\tPred-FP\tPred-IDS\n",
      "thr_0.5335\t0.897\t0.217\t0.587\t5764\t58317\t34220\t24066\t31\t37780\t34220\t3529\t31\n",
      "\n"
     ]
    },
    {
     "name": "stderr",
     "output_type": "stream",
     "text": [
      "                                                 \r"
     ]
    },
    {
     "name": "stdout",
     "output_type": "stream",
     "text": [
      "\t\tMOTAR\tMOTP\tRecall\tFrames\tGT\tGT-Mtch\tGT-Miss\tGT-IDS\tPred\tPred-TP\tPred-FP\tPred-IDS\n",
      "thr_0.5548\t0.910\t0.214\t0.564\t5764\t58317\t32875\t25419\t23\t35859\t32875\t2961\t23\n",
      "\n"
     ]
    },
    {
     "name": "stderr",
     "output_type": "stream",
     "text": [
      "                                                 \r"
     ]
    },
    {
     "name": "stdout",
     "output_type": "stream",
     "text": [
      "\t\tMOTAR\tMOTP\tRecall\tFrames\tGT\tGT-Mtch\tGT-Miss\tGT-IDS\tPred\tPred-TP\tPred-FP\tPred-IDS\n",
      "thr_0.5711\t0.918\t0.210\t0.541\t5764\t58317\t31544\t26755\t18\t34161\t31544\t2599\t18\n",
      "\n"
     ]
    },
    {
     "name": "stderr",
     "output_type": "stream",
     "text": [
      "                                                 \r"
     ]
    },
    {
     "name": "stdout",
     "output_type": "stream",
     "text": [
      "\t\tMOTAR\tMOTP\tRecall\tFrames\tGT\tGT-Mtch\tGT-Miss\tGT-IDS\tPred\tPred-TP\tPred-FP\tPred-IDS\n",
      "thr_0.5922\t0.927\t0.205\t0.518\t5764\t58317\t30169\t28135\t13\t32387\t30169\t2205\t13\n",
      "\n"
     ]
    },
    {
     "name": "stderr",
     "output_type": "stream",
     "text": [
      "                                                 \r"
     ]
    },
    {
     "name": "stdout",
     "output_type": "stream",
     "text": [
      "\t\tMOTAR\tMOTP\tRecall\tFrames\tGT\tGT-Mtch\tGT-Miss\tGT-IDS\tPred\tPred-TP\tPred-FP\tPred-IDS\n",
      "thr_0.6129\t0.936\t0.200\t0.494\t5755\t58317\t28810\t29497\t10\t30658\t28810\t1838\t10\n",
      "\n"
     ]
    },
    {
     "name": "stderr",
     "output_type": "stream",
     "text": [
      "                                                 \r"
     ]
    },
    {
     "name": "stdout",
     "output_type": "stream",
     "text": [
      "\t\tMOTAR\tMOTP\tRecall\tFrames\tGT\tGT-Mtch\tGT-Miss\tGT-IDS\tPred\tPred-TP\tPred-FP\tPred-IDS\n",
      "thr_0.6315\t0.942\t0.197\t0.471\t5745\t58317\t27459\t30849\t9\t29053\t27459\t1585\t9\n",
      "\n"
     ]
    },
    {
     "name": "stderr",
     "output_type": "stream",
     "text": [
      "                                                 \r"
     ]
    },
    {
     "name": "stdout",
     "output_type": "stream",
     "text": [
      "\t\tMOTAR\tMOTP\tRecall\tFrames\tGT\tGT-Mtch\tGT-Miss\tGT-IDS\tPred\tPred-TP\tPred-FP\tPred-IDS\n",
      "thr_0.6531\t0.948\t0.193\t0.448\t5741\t58317\t26092\t32217\t8\t27454\t26092\t1354\t8\n",
      "\n"
     ]
    },
    {
     "name": "stderr",
     "output_type": "stream",
     "text": [
      "                                                 \r"
     ]
    },
    {
     "name": "stdout",
     "output_type": "stream",
     "text": [
      "\t\tMOTAR\tMOTP\tRecall\tFrames\tGT\tGT-Mtch\tGT-Miss\tGT-IDS\tPred\tPred-TP\tPred-FP\tPred-IDS\n",
      "thr_0.6688\t0.954\t0.191\t0.424\t5740\t58317\t24734\t33579\t4\t25875\t24734\t1137\t4\n",
      "\n"
     ]
    },
    {
     "name": "stderr",
     "output_type": "stream",
     "text": [
      "                                                 \r"
     ]
    },
    {
     "name": "stdout",
     "output_type": "stream",
     "text": [
      "\t\tMOTAR\tMOTP\tRecall\tFrames\tGT\tGT-Mtch\tGT-Miss\tGT-IDS\tPred\tPred-TP\tPred-FP\tPred-IDS\n",
      "thr_0.6821\t0.958\t0.188\t0.401\t5740\t58317\t23397\t34916\t4\t24382\t23397\t981\t4\n",
      "\n"
     ]
    },
    {
     "name": "stderr",
     "output_type": "stream",
     "text": [
      "                                                 \r"
     ]
    },
    {
     "name": "stdout",
     "output_type": "stream",
     "text": [
      "\t\tMOTAR\tMOTP\tRecall\tFrames\tGT\tGT-Mtch\tGT-Miss\tGT-IDS\tPred\tPred-TP\tPred-FP\tPred-IDS\n",
      "thr_0.6930\t0.960\t0.185\t0.378\t5740\t58317\t22042\t36272\t3\t22926\t22042\t881\t3\n",
      "\n"
     ]
    },
    {
     "name": "stderr",
     "output_type": "stream",
     "text": [
      "                                                 \r"
     ]
    },
    {
     "name": "stdout",
     "output_type": "stream",
     "text": [
      "\t\tMOTAR\tMOTP\tRecall\tFrames\tGT\tGT-Mtch\tGT-Miss\tGT-IDS\tPred\tPred-TP\tPred-FP\tPred-IDS\n",
      "thr_0.7049\t0.962\t0.182\t0.355\t5740\t58317\t20708\t37606\t3\t21493\t20708\t782\t3\n",
      "\n"
     ]
    },
    {
     "name": "stderr",
     "output_type": "stream",
     "text": [
      "                                                 \r"
     ]
    },
    {
     "name": "stdout",
     "output_type": "stream",
     "text": [
      "\t\tMOTAR\tMOTP\tRecall\tFrames\tGT\tGT-Mtch\tGT-Miss\tGT-IDS\tPred\tPred-TP\tPred-FP\tPred-IDS\n",
      "thr_0.7170\t0.965\t0.179\t0.332\t5740\t58317\t19358\t38957\t2\t20029\t19358\t669\t2\n",
      "\n"
     ]
    },
    {
     "name": "stderr",
     "output_type": "stream",
     "text": [
      "                                                 \r"
     ]
    },
    {
     "name": "stdout",
     "output_type": "stream",
     "text": [
      "\t\tMOTAR\tMOTP\tRecall\tFrames\tGT\tGT-Mtch\tGT-Miss\tGT-IDS\tPred\tPred-TP\tPred-FP\tPred-IDS\n",
      "thr_0.7311\t0.970\t0.177\t0.309\t5731\t58317\t18005\t40311\t1\t18545\t18005\t539\t1\n",
      "\n"
     ]
    },
    {
     "name": "stderr",
     "output_type": "stream",
     "text": [
      "                                                 \r"
     ]
    },
    {
     "name": "stdout",
     "output_type": "stream",
     "text": [
      "\t\tMOTAR\tMOTP\tRecall\tFrames\tGT\tGT-Mtch\tGT-Miss\tGT-IDS\tPred\tPred-TP\tPred-FP\tPred-IDS\n",
      "thr_0.7448\t0.973\t0.173\t0.285\t5731\t58317\t16646\t41670\t1\t17096\t16646\t449\t1\n",
      "\n"
     ]
    },
    {
     "name": "stderr",
     "output_type": "stream",
     "text": [
      "                                                 \r"
     ]
    },
    {
     "name": "stdout",
     "output_type": "stream",
     "text": [
      "\t\tMOTAR\tMOTP\tRecall\tFrames\tGT\tGT-Mtch\tGT-Miss\tGT-IDS\tPred\tPred-TP\tPred-FP\tPred-IDS\n",
      "thr_0.7585\t0.979\t0.170\t0.263\t5731\t58317\t15321\t42995\t1\t15651\t15321\t329\t1\n",
      "\n"
     ]
    },
    {
     "name": "stderr",
     "output_type": "stream",
     "text": [
      "                                                 \r"
     ]
    },
    {
     "name": "stdout",
     "output_type": "stream",
     "text": [
      "\t\tMOTAR\tMOTP\tRecall\tFrames\tGT\tGT-Mtch\tGT-Miss\tGT-IDS\tPred\tPred-TP\tPred-FP\tPred-IDS\n",
      "thr_0.7709\t0.980\t0.167\t0.239\t5727\t58317\t13959\t44358\t0\t14237\t13959\t278\t0\n",
      "\n"
     ]
    },
    {
     "name": "stderr",
     "output_type": "stream",
     "text": [
      "                                                 \r"
     ]
    },
    {
     "name": "stdout",
     "output_type": "stream",
     "text": [
      "\t\tMOTAR\tMOTP\tRecall\tFrames\tGT\tGT-Mtch\tGT-Miss\tGT-IDS\tPred\tPred-TP\tPred-FP\tPred-IDS\n",
      "thr_0.7826\t0.983\t0.164\t0.216\t5727\t58317\t12601\t45716\t0\t12812\t12601\t211\t0\n",
      "\n"
     ]
    },
    {
     "name": "stderr",
     "output_type": "stream",
     "text": [
      "                                                 \r"
     ]
    },
    {
     "name": "stdout",
     "output_type": "stream",
     "text": [
      "\t\tMOTAR\tMOTP\tRecall\tFrames\tGT\tGT-Mtch\tGT-Miss\tGT-IDS\tPred\tPred-TP\tPred-FP\tPred-IDS\n",
      "thr_0.7961\t0.984\t0.161\t0.193\t5727\t58317\t11253\t47064\t0\t11437\t11253\t184\t0\n",
      "\n"
     ]
    },
    {
     "name": "stderr",
     "output_type": "stream",
     "text": [
      "                                                 \r"
     ]
    },
    {
     "name": "stdout",
     "output_type": "stream",
     "text": [
      "\t\tMOTAR\tMOTP\tRecall\tFrames\tGT\tGT-Mtch\tGT-Miss\tGT-IDS\tPred\tPred-TP\tPred-FP\tPred-IDS\n",
      "thr_0.8086\t0.985\t0.157\t0.170\t5727\t58317\t9887\t48430\t0\t10032\t9887\t145\t0\n",
      "\n"
     ]
    },
    {
     "name": "stderr",
     "output_type": "stream",
     "text": [
      "                                                 \r"
     ]
    },
    {
     "name": "stdout",
     "output_type": "stream",
     "text": [
      "\t\tMOTAR\tMOTP\tRecall\tFrames\tGT\tGT-Mtch\tGT-Miss\tGT-IDS\tPred\tPred-TP\tPred-FP\tPred-IDS\n",
      "thr_0.8233\t0.987\t0.153\t0.146\t5727\t58317\t8543\t49774\t0\t8654\t8543\t111\t0\n",
      "\n"
     ]
    },
    {
     "name": "stderr",
     "output_type": "stream",
     "text": [
      "                                                 \r"
     ]
    },
    {
     "name": "stdout",
     "output_type": "stream",
     "text": [
      "\t\tMOTAR\tMOTP\tRecall\tFrames\tGT\tGT-Mtch\tGT-Miss\tGT-IDS\tPred\tPred-TP\tPred-FP\tPred-IDS\n",
      "thr_0.8406\t0.991\t0.152\t0.124\t5727\t58317\t7212\t51105\t0\t7278\t7212\t66\t0\n",
      "\n"
     ]
    },
    {
     "name": "stderr",
     "output_type": "stream",
     "text": [
      "                                                 \r"
     ]
    },
    {
     "name": "stdout",
     "output_type": "stream",
     "text": [
      "\t\tMOTAR\tMOTP\tRecall\tFrames\tGT\tGT-Mtch\tGT-Miss\tGT-IDS\tPred\tPred-TP\tPred-FP\tPred-IDS\n",
      "thr_0.8590\t0.994\t0.148\t0.101\t5727\t58317\t5868\t52449\t0\t5903\t5868\t35\t0\n",
      "\n",
      "Computing metrics for class motorcycle...\n",
      "\n"
     ]
    },
    {
     "name": "stderr",
     "output_type": "stream",
     "text": [
      "                                                 \r"
     ]
    },
    {
     "name": "stdout",
     "output_type": "stream",
     "text": [
      "Computed thresholds\n",
      "\n"
     ]
    },
    {
     "name": "stderr",
     "output_type": "stream",
     "text": [
      "                                                  \r"
     ]
    },
    {
     "name": "stdout",
     "output_type": "stream",
     "text": [
      "\t\tMOTAR\tMOTP\tRecall\tFrames\tGT\tGT-Mtch\tGT-Miss\tGT-IDS\tPred\tPred-TP\tPred-FP\tPred-IDS\n",
      "thr_0.1537\t0.000\t0.344\t0.619\t2776\t1977\t1202\t754\t21\t4048\t1202\t2825\t21\n",
      "\n"
     ]
    },
    {
     "name": "stderr",
     "output_type": "stream",
     "text": [
      "                                                  \r"
     ]
    },
    {
     "name": "stdout",
     "output_type": "stream",
     "text": [
      "\t\tMOTAR\tMOTP\tRecall\tFrames\tGT\tGT-Mtch\tGT-Miss\tGT-IDS\tPred\tPred-TP\tPred-FP\tPred-IDS\n",
      "thr_0.2246\t0.000\t0.320\t0.599\t2371\t1977\t1170\t793\t14\t3179\t1170\t1995\t14\n",
      "\n"
     ]
    },
    {
     "name": "stderr",
     "output_type": "stream",
     "text": [
      "                                                  \r"
     ]
    },
    {
     "name": "stdout",
     "output_type": "stream",
     "text": [
      "\t\tMOTAR\tMOTP\tRecall\tFrames\tGT\tGT-Mtch\tGT-Miss\tGT-IDS\tPred\tPred-TP\tPred-FP\tPred-IDS\n",
      "thr_0.2769\t0.000\t0.312\t0.583\t2222\t1977\t1140\t825\t12\t2748\t1140\t1596\t12\n",
      "\n"
     ]
    },
    {
     "name": "stderr",
     "output_type": "stream",
     "text": [
      "                                                  \r"
     ]
    },
    {
     "name": "stdout",
     "output_type": "stream",
     "text": [
      "\t\tMOTAR\tMOTP\tRecall\tFrames\tGT\tGT-Mtch\tGT-Miss\tGT-IDS\tPred\tPred-TP\tPred-FP\tPred-IDS\n",
      "thr_0.2941\t0.000\t0.304\t0.557\t2159\t1977\t1090\t876\t11\t2536\t1090\t1435\t11\n",
      "\n"
     ]
    },
    {
     "name": "stderr",
     "output_type": "stream",
     "text": [
      "                                                  \r"
     ]
    },
    {
     "name": "stdout",
     "output_type": "stream",
     "text": [
      "\t\tMOTAR\tMOTP\tRecall\tFrames\tGT\tGT-Mtch\tGT-Miss\tGT-IDS\tPred\tPred-TP\tPred-FP\tPred-IDS\n",
      "thr_0.3641\t0.000\t0.296\t0.541\t1990\t1977\t1060\t907\t10\t2238\t1060\t1168\t10\n",
      "\n"
     ]
    },
    {
     "name": "stderr",
     "output_type": "stream",
     "text": [
      "                                                  \r"
     ]
    },
    {
     "name": "stdout",
     "output_type": "stream",
     "text": [
      "\t\tMOTAR\tMOTP\tRecall\tFrames\tGT\tGT-Mtch\tGT-Miss\tGT-IDS\tPred\tPred-TP\tPred-FP\tPred-IDS\n",
      "thr_0.3851\t0.000\t0.286\t0.508\t1980\t1977\t996\t972\t9\t2147\t996\t1142\t9\n",
      "\n"
     ]
    },
    {
     "name": "stderr",
     "output_type": "stream",
     "text": [
      "                                                  \r"
     ]
    },
    {
     "name": "stdout",
     "output_type": "stream",
     "text": [
      "\t\tMOTAR\tMOTP\tRecall\tFrames\tGT\tGT-Mtch\tGT-Miss\tGT-IDS\tPred\tPred-TP\tPred-FP\tPred-IDS\n",
      "thr_0.4274\t0.000\t0.276\t0.485\t1869\t1977\t950\t1019\t8\t1920\t950\t962\t8\n",
      "\n"
     ]
    },
    {
     "name": "stderr",
     "output_type": "stream",
     "text": [
      "                                                  \r"
     ]
    },
    {
     "name": "stdout",
     "output_type": "stream",
     "text": [
      "\t\tMOTAR\tMOTP\tRecall\tFrames\tGT\tGT-Mtch\tGT-Miss\tGT-IDS\tPred\tPred-TP\tPred-FP\tPred-IDS\n",
      "thr_0.4342\t0.000\t0.277\t0.468\t1860\t1977\t918\t1051\t8\t1845\t918\t919\t8\n",
      "\n"
     ]
    },
    {
     "name": "stderr",
     "output_type": "stream",
     "text": [
      "                                                  \r"
     ]
    },
    {
     "name": "stdout",
     "output_type": "stream",
     "text": [
      "\t\tMOTAR\tMOTP\tRecall\tFrames\tGT\tGT-Mtch\tGT-Miss\tGT-IDS\tPred\tPred-TP\tPred-FP\tPred-IDS\n",
      "thr_0.4600\t0.167\t0.278\t0.448\t1724\t1977\t879\t1091\t7\t1618\t879\t732\t7\n",
      "\n"
     ]
    },
    {
     "name": "stderr",
     "output_type": "stream",
     "text": [
      "                                                  \r"
     ]
    },
    {
     "name": "stdout",
     "output_type": "stream",
     "text": [
      "\t\tMOTAR\tMOTP\tRecall\tFrames\tGT\tGT-Mtch\tGT-Miss\tGT-IDS\tPred\tPred-TP\tPred-FP\tPred-IDS\n",
      "thr_0.4693\t0.177\t0.248\t0.423\t1700\t1977\t832\t1140\t5\t1522\t832\t685\t5\n",
      "\n"
     ]
    },
    {
     "name": "stderr",
     "output_type": "stream",
     "text": [
      "                                                  \r"
     ]
    },
    {
     "name": "stdout",
     "output_type": "stream",
     "text": [
      "\t\tMOTAR\tMOTP\tRecall\tFrames\tGT\tGT-Mtch\tGT-Miss\tGT-IDS\tPred\tPred-TP\tPred-FP\tPred-IDS\n",
      "thr_0.4784\t0.180\t0.242\t0.399\t1679\t1977\t784\t1188\t5\t1432\t784\t643\t5\n",
      "\n"
     ]
    },
    {
     "name": "stderr",
     "output_type": "stream",
     "text": [
      "                                                  \r"
     ]
    },
    {
     "name": "stdout",
     "output_type": "stream",
     "text": [
      "\t\tMOTAR\tMOTP\tRecall\tFrames\tGT\tGT-Mtch\tGT-Miss\tGT-IDS\tPred\tPred-TP\tPred-FP\tPred-IDS\n",
      "thr_0.4996\t0.276\t0.236\t0.375\t1616\t1977\t736\t1236\t5\t1274\t736\t533\t5\n",
      "\n"
     ]
    },
    {
     "name": "stderr",
     "output_type": "stream",
     "text": [
      "                                                  \r"
     ]
    },
    {
     "name": "stdout",
     "output_type": "stream",
     "text": [
      "\t\tMOTAR\tMOTP\tRecall\tFrames\tGT\tGT-Mtch\tGT-Miss\tGT-IDS\tPred\tPred-TP\tPred-FP\tPred-IDS\n",
      "thr_0.5253\t0.332\t0.231\t0.351\t1576\t1977\t689\t1283\t5\t1154\t689\t460\t5\n",
      "\n"
     ]
    },
    {
     "name": "stderr",
     "output_type": "stream",
     "text": [
      "                                                  \r"
     ]
    },
    {
     "name": "stdout",
     "output_type": "stream",
     "text": [
      "\t\tMOTAR\tMOTP\tRecall\tFrames\tGT\tGT-Mtch\tGT-Miss\tGT-IDS\tPred\tPred-TP\tPred-FP\tPred-IDS\n",
      "thr_0.5389\t0.305\t0.225\t0.332\t1573\t1977\t653\t1320\t4\t1111\t653\t454\t4\n",
      "\n"
     ]
    },
    {
     "name": "stderr",
     "output_type": "stream",
     "text": [
      "                                                 \r"
     ]
    },
    {
     "name": "stdout",
     "output_type": "stream",
     "text": [
      "\t\tMOTAR\tMOTP\tRecall\tFrames\tGT\tGT-Mtch\tGT-Miss\tGT-IDS\tPred\tPred-TP\tPred-FP\tPred-IDS\n",
      "thr_0.5524\t0.437\t0.218\t0.309\t1529\t1977\t607\t1367\t3\t952\t607\t342\t3\n",
      "\n"
     ]
    },
    {
     "name": "stderr",
     "output_type": "stream",
     "text": [
      "                                                  \r"
     ]
    },
    {
     "name": "stdout",
     "output_type": "stream",
     "text": [
      "\t\tMOTAR\tMOTP\tRecall\tFrames\tGT\tGT-Mtch\tGT-Miss\tGT-IDS\tPred\tPred-TP\tPred-FP\tPred-IDS\n",
      "thr_0.5703\t0.434\t0.213\t0.283\t1516\t1977\t557\t1417\t3\t875\t557\t315\t3\n",
      "\n"
     ]
    },
    {
     "name": "stderr",
     "output_type": "stream",
     "text": [
      "                                                  \r"
     ]
    },
    {
     "name": "stdout",
     "output_type": "stream",
     "text": [
      "\t\tMOTAR\tMOTP\tRecall\tFrames\tGT\tGT-Mtch\tGT-Miss\tGT-IDS\tPred\tPred-TP\tPred-FP\tPred-IDS\n",
      "thr_0.5927\t0.504\t0.192\t0.261\t1471\t1977\t514\t1461\t2\t771\t514\t255\t2\n",
      "\n"
     ]
    },
    {
     "name": "stderr",
     "output_type": "stream",
     "text": [
      "                                                  \r"
     ]
    },
    {
     "name": "stdout",
     "output_type": "stream",
     "text": [
      "\t\tMOTAR\tMOTP\tRecall\tFrames\tGT\tGT-Mtch\tGT-Miss\tGT-IDS\tPred\tPred-TP\tPred-FP\tPred-IDS\n",
      "thr_0.6013\t0.505\t0.196\t0.237\t1447\t1977\t467\t1508\t2\t700\t467\t231\t2\n",
      "\n"
     ]
    },
    {
     "name": "stderr",
     "output_type": "stream",
     "text": [
      "                                                  \r"
     ]
    },
    {
     "name": "stdout",
     "output_type": "stream",
     "text": [
      "\t\tMOTAR\tMOTP\tRecall\tFrames\tGT\tGT-Mtch\tGT-Miss\tGT-IDS\tPred\tPred-TP\tPred-FP\tPred-IDS\n",
      "thr_0.6507\t0.571\t0.182\t0.207\t1391\t1977\t408\t1567\t2\t585\t408\t175\t2\n",
      "\n"
     ]
    },
    {
     "name": "stderr",
     "output_type": "stream",
     "text": [
      "                                                  \r"
     ]
    },
    {
     "name": "stdout",
     "output_type": "stream",
     "text": [
      "\t\tMOTAR\tMOTP\tRecall\tFrames\tGT\tGT-Mtch\tGT-Miss\tGT-IDS\tPred\tPred-TP\tPred-FP\tPred-IDS\n",
      "thr_0.6662\t0.591\t0.177\t0.195\t1381\t1977\t384\t1591\t2\t543\t384\t157\t2\n",
      "\n"
     ]
    },
    {
     "name": "stderr",
     "output_type": "stream",
     "text": [
      "                                                  \r"
     ]
    },
    {
     "name": "stdout",
     "output_type": "stream",
     "text": [
      "\t\tMOTAR\tMOTP\tRecall\tFrames\tGT\tGT-Mtch\tGT-Miss\tGT-IDS\tPred\tPred-TP\tPred-FP\tPred-IDS\n",
      "thr_0.6797\t0.524\t0.176\t0.167\t1381\t1977\t328\t1647\t2\t486\t328\t156\t2\n",
      "\n"
     ]
    },
    {
     "name": "stderr",
     "output_type": "stream",
     "text": [
      "                                                  \r"
     ]
    },
    {
     "name": "stdout",
     "output_type": "stream",
     "text": [
      "\t\tMOTAR\tMOTP\tRecall\tFrames\tGT\tGT-Mtch\tGT-Miss\tGT-IDS\tPred\tPred-TP\tPred-FP\tPred-IDS\n",
      "thr_0.7149\t0.494\t0.171\t0.131\t1366\t1977\t257\t1718\t2\t389\t257\t130\t2\n",
      "\n"
     ]
    },
    {
     "name": "stderr",
     "output_type": "stream",
     "text": [
      "                                                 \r"
     ]
    },
    {
     "name": "stdout",
     "output_type": "stream",
     "text": [
      "\t\tMOTAR\tMOTP\tRecall\tFrames\tGT\tGT-Mtch\tGT-Miss\tGT-IDS\tPred\tPred-TP\tPred-FP\tPred-IDS\n",
      "thr_0.7719\t0.613\t0.161\t0.107\t1339\t1977\t212\t1765\t0\t294\t212\t82\t0\n",
      "\n",
      "Computing metrics for class pedestrian...\n",
      "\n"
     ]
    },
    {
     "name": "stderr",
     "output_type": "stream",
     "text": [
      "                                                 \r"
     ]
    },
    {
     "name": "stdout",
     "output_type": "stream",
     "text": [
      "Computed thresholds\n",
      "\n"
     ]
    },
    {
     "name": "stderr",
     "output_type": "stream",
     "text": [
      "                                                 \r"
     ]
    },
    {
     "name": "stdout",
     "output_type": "stream",
     "text": [
      "\t\tMOTAR\tMOTP\tRecall\tFrames\tGT\tGT-Mtch\tGT-Miss\tGT-IDS\tPred\tPred-TP\tPred-FP\tPred-IDS\n",
      "thr_0.2073\t0.792\t0.229\t0.637\t4472\t25423\t16075\t9237\t111\t19531\t16075\t3345\t111\n",
      "\n"
     ]
    },
    {
     "name": "stderr",
     "output_type": "stream",
     "text": [
      "                                                 \r"
     ]
    },
    {
     "name": "stdout",
     "output_type": "stream",
     "text": [
      "\t\tMOTAR\tMOTP\tRecall\tFrames\tGT\tGT-Mtch\tGT-Miss\tGT-IDS\tPred\tPred-TP\tPred-FP\tPred-IDS\n",
      "thr_0.2533\t0.821\t0.223\t0.616\t4434\t25423\t15560\t9767\t96\t18439\t15560\t2783\t96\n",
      "\n"
     ]
    },
    {
     "name": "stderr",
     "output_type": "stream",
     "text": [
      "                                                 \r"
     ]
    },
    {
     "name": "stdout",
     "output_type": "stream",
     "text": [
      "\t\tMOTAR\tMOTP\tRecall\tFrames\tGT\tGT-Mtch\tGT-Miss\tGT-IDS\tPred\tPred-TP\tPred-FP\tPred-IDS\n",
      "thr_0.2738\t0.840\t0.216\t0.594\t4405\t25423\t15024\t10324\t75\t17508\t15024\t2409\t75\n",
      "\n"
     ]
    },
    {
     "name": "stderr",
     "output_type": "stream",
     "text": [
      "                                                 \r"
     ]
    },
    {
     "name": "stdout",
     "output_type": "stream",
     "text": [
      "\t\tMOTAR\tMOTP\tRecall\tFrames\tGT\tGT-Mtch\tGT-Miss\tGT-IDS\tPred\tPred-TP\tPred-FP\tPred-IDS\n",
      "thr_0.2892\t0.856\t0.211\t0.571\t4376\t25423\t14449\t10912\t62\t16593\t14449\t2082\t62\n",
      "\n"
     ]
    },
    {
     "name": "stderr",
     "output_type": "stream",
     "text": [
      "                                                 \r"
     ]
    },
    {
     "name": "stdout",
     "output_type": "stream",
     "text": [
      "\t\tMOTAR\tMOTP\tRecall\tFrames\tGT\tGT-Mtch\tGT-Miss\tGT-IDS\tPred\tPred-TP\tPred-FP\tPred-IDS\n",
      "thr_0.3034\t0.873\t0.207\t0.547\t4355\t25423\t13862\t11506\t55\t15684\t13862\t1767\t55\n",
      "\n"
     ]
    },
    {
     "name": "stderr",
     "output_type": "stream",
     "text": [
      "                                                 \r"
     ]
    },
    {
     "name": "stdout",
     "output_type": "stream",
     "text": [
      "\t\tMOTAR\tMOTP\tRecall\tFrames\tGT\tGT-Mtch\tGT-Miss\tGT-IDS\tPred\tPred-TP\tPred-FP\tPred-IDS\n",
      "thr_0.3144\t0.880\t0.203\t0.525\t4354\t25423\t13296\t12083\t44\t14940\t13296\t1600\t44\n",
      "\n"
     ]
    },
    {
     "name": "stderr",
     "output_type": "stream",
     "text": [
      "                                                 \r"
     ]
    },
    {
     "name": "stdout",
     "output_type": "stream",
     "text": [
      "\t\tMOTAR\tMOTP\tRecall\tFrames\tGT\tGT-Mtch\tGT-Miss\tGT-IDS\tPred\tPred-TP\tPred-FP\tPred-IDS\n",
      "thr_0.3251\t0.886\t0.197\t0.500\t4352\t25423\t12671\t12709\t43\t14153\t12671\t1439\t43\n",
      "\n"
     ]
    },
    {
     "name": "stderr",
     "output_type": "stream",
     "text": [
      "                                                 \r"
     ]
    },
    {
     "name": "stdout",
     "output_type": "stream",
     "text": [
      "\t\tMOTAR\tMOTP\tRecall\tFrames\tGT\tGT-Mtch\tGT-Miss\tGT-IDS\tPred\tPred-TP\tPred-FP\tPred-IDS\n",
      "thr_0.3381\t0.895\t0.193\t0.478\t4351\t25423\t12103\t13283\t37\t13407\t12103\t1267\t37\n",
      "\n"
     ]
    },
    {
     "name": "stderr",
     "output_type": "stream",
     "text": [
      "                                                 \r"
     ]
    },
    {
     "name": "stdout",
     "output_type": "stream",
     "text": [
      "\t\tMOTAR\tMOTP\tRecall\tFrames\tGT\tGT-Mtch\tGT-Miss\tGT-IDS\tPred\tPred-TP\tPred-FP\tPred-IDS\n",
      "thr_0.3456\t0.901\t0.187\t0.454\t4351\t25423\t11516\t13878\t29\t12688\t11516\t1143\t29\n",
      "\n"
     ]
    },
    {
     "name": "stderr",
     "output_type": "stream",
     "text": [
      "                                                 \r"
     ]
    },
    {
     "name": "stdout",
     "output_type": "stream",
     "text": [
      "\t\tMOTAR\tMOTP\tRecall\tFrames\tGT\tGT-Mtch\tGT-Miss\tGT-IDS\tPred\tPred-TP\tPred-FP\tPred-IDS\n",
      "thr_0.3550\t0.905\t0.178\t0.430\t4346\t25423\t10911\t14488\t24\t11970\t10911\t1035\t24\n",
      "\n"
     ]
    },
    {
     "name": "stderr",
     "output_type": "stream",
     "text": [
      "                                                 \r"
     ]
    },
    {
     "name": "stdout",
     "output_type": "stream",
     "text": [
      "\t\tMOTAR\tMOTP\tRecall\tFrames\tGT\tGT-Mtch\tGT-Miss\tGT-IDS\tPred\tPred-TP\tPred-FP\tPred-IDS\n",
      "thr_0.3619\t0.911\t0.180\t0.408\t4331\t25423\t10348\t15052\t23\t11289\t10348\t918\t23\n",
      "\n"
     ]
    },
    {
     "name": "stderr",
     "output_type": "stream",
     "text": [
      "                                                 \r"
     ]
    },
    {
     "name": "stdout",
     "output_type": "stream",
     "text": [
      "\t\tMOTAR\tMOTP\tRecall\tFrames\tGT\tGT-Mtch\tGT-Miss\tGT-IDS\tPred\tPred-TP\tPred-FP\tPred-IDS\n",
      "thr_0.3677\t0.919\t0.178\t0.384\t4323\t25423\t9742\t15660\t21\t10553\t9742\t790\t21\n",
      "\n"
     ]
    },
    {
     "name": "stderr",
     "output_type": "stream",
     "text": [
      "                                                 \r"
     ]
    },
    {
     "name": "stdout",
     "output_type": "stream",
     "text": [
      "\t\tMOTAR\tMOTP\tRecall\tFrames\tGT\tGT-Mtch\tGT-Miss\tGT-IDS\tPred\tPred-TP\tPred-FP\tPred-IDS\n",
      "thr_0.3740\t0.929\t0.178\t0.361\t4321\t25423\t9155\t16248\t20\t9826\t9155\t651\t20\n",
      "\n"
     ]
    },
    {
     "name": "stderr",
     "output_type": "stream",
     "text": [
      "                                                 \r"
     ]
    },
    {
     "name": "stdout",
     "output_type": "stream",
     "text": [
      "\t\tMOTAR\tMOTP\tRecall\tFrames\tGT\tGT-Mtch\tGT-Miss\tGT-IDS\tPred\tPred-TP\tPred-FP\tPred-IDS\n",
      "thr_0.3813\t0.933\t0.176\t0.339\t4309\t25423\t8595\t16813\t15\t9184\t8595\t574\t15\n",
      "\n"
     ]
    },
    {
     "name": "stderr",
     "output_type": "stream",
     "text": [
      "                                                 \r"
     ]
    },
    {
     "name": "stdout",
     "output_type": "stream",
     "text": [
      "\t\tMOTAR\tMOTP\tRecall\tFrames\tGT\tGT-Mtch\tGT-Miss\tGT-IDS\tPred\tPred-TP\tPred-FP\tPred-IDS\n",
      "thr_0.3876\t0.934\t0.174\t0.314\t4303\t25423\t7976\t17434\t13\t8515\t7976\t526\t13\n",
      "\n"
     ]
    },
    {
     "name": "stderr",
     "output_type": "stream",
     "text": [
      "                                                 \r"
     ]
    },
    {
     "name": "stdout",
     "output_type": "stream",
     "text": [
      "\t\tMOTAR\tMOTP\tRecall\tFrames\tGT\tGT-Mtch\tGT-Miss\tGT-IDS\tPred\tPred-TP\tPred-FP\tPred-IDS\n",
      "thr_0.3952\t0.935\t0.170\t0.291\t4303\t25423\t7378\t18034\t11\t7867\t7378\t478\t11\n",
      "\n"
     ]
    },
    {
     "name": "stderr",
     "output_type": "stream",
     "text": [
      "                                                 \r"
     ]
    },
    {
     "name": "stdout",
     "output_type": "stream",
     "text": [
      "\t\tMOTAR\tMOTP\tRecall\tFrames\tGT\tGT-Mtch\tGT-Miss\tGT-IDS\tPred\tPred-TP\tPred-FP\tPred-IDS\n",
      "thr_0.4004\t0.938\t0.169\t0.267\t4303\t25423\t6787\t18626\t10\t7217\t6787\t420\t10\n",
      "\n"
     ]
    },
    {
     "name": "stderr",
     "output_type": "stream",
     "text": [
      "                                                 \r"
     ]
    }
   ],
   "source": [
    "trackEvalutation = TrackingEval(nusc_dataroot=ByteTrack.TRAINVAL_PATH, nusc_version='v1.0-trainval', result_path=result_path, eval_set=eval_set, config=TrackingConfig(**json.load(open(config_file))), output_dir=output_dir, verbose=True)\n",
    "trackEvalutation.main()"
   ]
  }
 ],
 "metadata": {
  "kernelspec": {
   "display_name": "semproj",
   "language": "python",
   "name": "python3"
  },
  "language_info": {
   "codemirror_mode": {
    "name": "ipython",
    "version": 3
   },
   "file_extension": ".py",
   "mimetype": "text/x-python",
   "name": "python",
   "nbconvert_exporter": "python",
   "pygments_lexer": "ipython3",
   "version": "3.9.16"
  },
  "orig_nbformat": 4,
  "vscode": {
   "interpreter": {
    "hash": "6a1eca162d8244ec663334057c1610a3bae01391a28d85af84dac413dee83203"
   }
  }
 },
 "nbformat": 4,
 "nbformat_minor": 2
}
