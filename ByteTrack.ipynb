{
 "cells": [
  {
   "attachments": {},
   "cell_type": "markdown",
   "metadata": {},
   "source": [
    "# Implementation de ByteTrack"
   ]
  },
  {
   "cell_type": "code",
   "execution_count": null,
   "metadata": {},
   "outputs": [],
   "source": [
    "import ByteTrack\n",
    "import covariance"
   ]
  },
  {
   "cell_type": "code",
   "execution_count": null,
   "metadata": {},
   "outputs": [],
   "source": [
    "DETECTION_PATH_TRANSFUSION = \"data/detection_transfusion/\"\n",
    "DETECTION_PATH_MEGVII = \"data/detection_megvii/megvii_val.json\"\n",
    "TRACKING_PATH = \"data/tracking/\"\n",
    "TRAINVAL_PATH = \"data/trainval/\"\n",
    "TEST_PATH = \"data/test/\""
   ]
  },
  {
   "attachments": {},
   "cell_type": "markdown",
   "metadata": {},
   "source": [
    "### Get the detections"
   ]
  },
  {
   "attachments": {},
   "cell_type": "markdown",
   "metadata": {},
   "source": [
    "Runs bytetrack on the desired eval split (train, val or test) and outputs the results in the correct json format to the \"output_name\" location"
   ]
  },
  {
   "cell_type": "code",
   "execution_count": null,
   "metadata": {},
   "outputs": [],
   "source": [
    "dataset='trainval' # trainval or test\n",
    "eval_split=\"val\"\n",
    "output_name=\"ByteTrack\" # name of the desired saved file\n",
    "detection_path = DETECTION_PATH_MEGVII\n",
    "\n",
    "#ajouter une condition pour ne pas re télécharger le nusc\n",
    "ByteTrack.init(dataset, detection_path, eval_split, output_name)\n",
    "\n",
    "# ### You can set specific threshold for the confidence, or the hungarian algorithm with the following command\n",
    "# ByteTrack.init(dataset, detection_path, eval_split, output_name, confidence_threshold=0.4, hungarian_threshold=0.6)"
   ]
  }
 ],
 "metadata": {
  "kernelspec": {
   "display_name": "semproj",
   "language": "python",
   "name": "python3"
  },
  "language_info": {
   "codemirror_mode": {
    "name": "ipython",
    "version": 3
   },
   "file_extension": ".py",
   "mimetype": "text/x-python",
   "name": "python",
   "nbconvert_exporter": "python",
   "pygments_lexer": "ipython3",
   "version": "3.9.16 (main, Jan 11 2023, 16:16:36) [MSC v.1916 64 bit (AMD64)]"
  },
  "orig_nbformat": 4,
  "vscode": {
   "interpreter": {
    "hash": "6a1eca162d8244ec663334057c1610a3bae01391a28d85af84dac413dee83203"
   }
  }
 },
 "nbformat": 4,
 "nbformat_minor": 2
}
