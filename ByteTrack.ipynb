{
 "cells": [
  {
   "attachments": {},
   "cell_type": "markdown",
   "metadata": {},
   "source": [
    "# Implementation de ByteTrack"
   ]
  },
  {
   "cell_type": "code",
   "execution_count": 1,
   "metadata": {},
   "outputs": [],
   "source": [
    "import tools.ByteTrack as ByteTrack"
   ]
  },
  {
   "cell_type": "code",
   "execution_count": 2,
   "metadata": {},
   "outputs": [],
   "source": [
    "DETECTION_PATH = \"megvii_val.json\""
   ]
  },
  {
   "attachments": {},
   "cell_type": "markdown",
   "metadata": {},
   "source": [
    "### Get the detections"
   ]
  },
  {
   "attachments": {},
   "cell_type": "markdown",
   "metadata": {},
   "source": [
    "Runs bytetrack on the desired eval split (train, val or test) and outputs the results in the correct json format to the \"output_name\" location"
   ]
  },
  {
   "cell_type": "code",
   "execution_count": 3,
   "metadata": {},
   "outputs": [
    {
     "name": "stdout",
     "output_type": "stream",
     "text": [
      "🔐Loading data🔐\n",
      "======\n",
      "Loading NuScenes tables for version v1.0-trainval...\n",
      "23 category,\n",
      "8 attribute,\n",
      "4 visibility,\n",
      "64386 instance,\n",
      "12 sensor,\n",
      "10200 calibrated_sensor,\n",
      "2631083 ego_pose,\n",
      "68 log,\n",
      "850 scene,\n",
      "34149 sample,\n",
      "2631083 sample_data,\n",
      "1166187 sample_annotation,\n",
      "4 map,\n",
      "Done loading in 34.096 seconds.\n",
      "======\n",
      "Reverse indexing ...\n",
      "Done reverse indexing in 8.4 seconds.\n",
      "======\n",
      "⚙️Loading predictions...⚙️\n",
      "Loaded results from megvii_val.json. Found detections for 6019 samples.\n",
      "✅Predictions succesfully loaded✅\n",
      "⚙️Loading ground truth...⚙️\n",
      "Loading annotations for val split from nuScenes version: v1.0-trainval\n"
     ]
    },
    {
     "name": "stderr",
     "output_type": "stream",
     "text": [
      "100%|██████████| 6019/6019 [00:09<00:00, 636.33it/s] \n"
     ]
    },
    {
     "name": "stdout",
     "output_type": "stream",
     "text": [
      "Loaded ground truth annotations for 6019 samples.\n",
      "✅Ground truth succesfully loaded✅\n",
      "🔐Saving history to ByteTrack.json🔐\n"
     ]
    }
   ],
   "source": [
    "dataset='trainval' # trainval or test\n",
    "eval_split=\"val\"\n",
    "output_name=\"ByteTrack\" # name of the desired saved file\n",
    "detection_path = DETECTION_PATH\n",
    "\n",
    "#ajouter une condition pour ne pas re télécharger le nusc\n",
    "ByteTrack.init(dataset, detection_path, eval_split, output_name)\n",
    "\n",
    "# ### You can set specific threshold for the confidence, or the hungarian algorithm with the following command\n",
    "# ByteTrack.init(dataset, detection_path, eval_split, output_name, confidence_threshold=0.4, hungarian_threshold=0.6)"
   ]
  }
 ],
 "metadata": {
  "kernelspec": {
   "display_name": "DLAV",
   "language": "python",
   "name": "python3"
  },
  "language_info": {
   "codemirror_mode": {
    "name": "ipython",
    "version": 3
   },
   "file_extension": ".py",
   "mimetype": "text/x-python",
   "name": "python",
   "nbconvert_exporter": "python",
   "pygments_lexer": "ipython3",
   "version": "3.9.16"
  },
  "orig_nbformat": 4,
  "vscode": {
   "interpreter": {
    "hash": "25f04a43529a4dbb7450cafabdea51aae61b65efc08d81fcdfc7b3e20f3d50ba"
   }
  }
 },
 "nbformat": 4,
 "nbformat_minor": 2
}
